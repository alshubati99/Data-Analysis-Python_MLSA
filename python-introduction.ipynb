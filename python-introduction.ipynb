{
 "cells": [
  {
   "cell_type": "code",
   "execution_count": 85,
   "metadata": {},
   "outputs": [
    {
     "name": "stdout",
     "output_type": "stream",
     "text": [
      "Salam ^_^\n"
     ]
    }
   ],
   "source": [
    "print(\"Salam ^_^\")"
   ]
  },
  {
   "cell_type": "code",
   "execution_count": 80,
   "metadata": {},
   "outputs": [
    {
     "data": {
      "text/plain": [
       "11"
      ]
     },
     "execution_count": 80,
     "metadata": {},
     "output_type": "execute_result"
    }
   ],
   "source": [
    "# Arithmatic operations: \n",
    "2+3\n",
    "2-3\n",
    "2*3 \n",
    "2/3\n",
    "2//3\n",
    "7%3\n",
    "2**3\n",
    "-5**2\n",
    "(-5)**2\n",
    "(2+3)*3\n",
    "2+3*3\n"
   ]
  },
  {
   "cell_type": "code",
   "execution_count": 83,
   "metadata": {},
   "outputs": [
    {
     "data": {
      "text/plain": [
       "True"
      ]
     },
     "execution_count": 83,
     "metadata": {},
     "output_type": "execute_result"
    }
   ],
   "source": [
    "# Expressions for decesion making\n",
    "5<4\n",
    "5<7\n",
    "5<=5\n",
    "5>=4\n",
    "5 == 6\n",
    "5 !=6\n",
    "a, b , c = 1, 2, 3\n",
    "a<b<c\n",
    "min(2, 3, 2.6)\n",
    "max(4, 5, 8)\n",
    "1<2 and 3<3\n",
    "1<2 or 3<3\n"
   ]
  },
  {
   "cell_type": "code",
   "execution_count": 84,
   "metadata": {},
   "outputs": [
    {
     "data": {
      "text/plain": [
       "4"
      ]
     },
     "execution_count": 84,
     "metadata": {},
     "output_type": "execute_result"
    }
   ],
   "source": [
    "# Variables: \n",
    "width = 5\n",
    "length = 6 \n",
    "width * length\n",
    "length = 5.8\n",
    "length\n",
    "width = 'four'\n",
    "width\n",
    "# n \n",
    "a, b, c = 1, 2, 3\n",
    "a ,b, c \n",
    "x = 5\n",
    "x+=5\n",
    "x \n",
    "y = 1\n",
    "y*=4\n",
    "y\n"
   ]
  },
  {
   "cell_type": "code",
   "execution_count": 82,
   "metadata": {},
   "outputs": [
    {
     "name": "stdout",
     "output_type": "stream",
     "text": [
      "c:\\some\\name\n"
     ]
    },
    {
     "data": {
      "text/plain": [
       "'2'"
      ]
     },
     "execution_count": 82,
     "metadata": {},
     "output_type": "execute_result"
    }
   ],
   "source": [
    "# String in python:\n",
    "'hi'\n",
    "'I\\'m'\n",
    "print(r'c:\\some\\name') # Note the \"r\" before the single quotation mark.\n",
    "\"\"\"hgjakghahklgjalks\"\"\"\n",
    "3*'hi'\n",
    "'hi'+' khawlah'\n",
    "name = 'khawlah'\n",
    "name[1]\n",
    "len(name)\n",
    "str(2)\n"
   ]
  },
  {
   "cell_type": "code",
   "execution_count": 98,
   "metadata": {},
   "outputs": [
    {
     "data": {
      "text/plain": [
       "3"
      ]
     },
     "execution_count": 98,
     "metadata": {},
     "output_type": "execute_result"
    }
   ],
   "source": [
    "# lists: (mutable)\n",
    "\n",
    "groupMembers = ['Jordan', 'Parker']\n",
    "groupMembers.append('Quinn')\n",
    "groupMembers\n",
    "groupMembers.remove('Jordan')\n",
    "groupMembers\n",
    "groupMembers.reverse()\n",
    "groupMembers\n",
    "groupMembers.pop()\n",
    "groupMembers[0]='Hamed'\n",
    "groupMembers\n",
    "\n",
    "numbers = [x for x in range(1,11)] # Remember to specify a range stop value that's 1 more than the number you want.\n",
    "numbers\n",
    "squares = [x*x for x in range(1,11)]\n",
    "squares\n",
    "odd_squares = [x*x for x in range(1,11) if x % 2 != 0]\n",
    "odd_squares\n",
    "# Tuples (immutable)\n",
    "t= (1,3,4)\n",
    "t\n",
    "tup = ('a', 'b', 'c')\n",
    "'b' in tup\n",
    "\n",
    "# Dictionaries (keys)\n",
    "dict = {'k':5*'hi',\n",
    "        'm': 3*'yes',\n",
    "        'd':4* 'no'}\n",
    "dict\n",
    "len(dict)"
   ]
  },
  {
   "cell_type": "code",
   "execution_count": 87,
   "metadata": {},
   "outputs": [
    {
     "name": "stdout",
     "output_type": "stream",
     "text": [
      "One\n"
     ]
    }
   ],
   "source": [
    "# IF Statement:\n",
    "y = 1\n",
    "if y % 2 == 0:\n",
    "    print('Even')\n",
    "elif y == 1:\n",
    "    print('One')\n",
    "else:\n",
    "    print('Odd')"
   ]
  },
  {
   "cell_type": "code",
   "execution_count": 93,
   "metadata": {},
   "outputs": [
    {
     "name": "stdout",
     "output_type": "stream",
     "text": [
      "red\n",
      "yellow\n",
      "blue\n",
      "red green\n",
      "yellow purple\n",
      "blue orange\n",
      "0\n",
      "1\n",
      "2\n",
      "3\n",
      "4\n",
      "2 is a prime number\n",
      "3 is a prime number\n",
      "4 equals 2 * 2\n",
      "5 is a prime number\n",
      "6 equals 2 * 3\n",
      "7 is a prime number\n",
      "8 equals 2 * 4\n",
      "9 equals 3 * 3\n",
      "Found an even number: 2\n",
      "Found an odd number: 3\n",
      "Found an even number: 4\n",
      "Found an odd number: 5\n",
      "Found an even number: 6\n",
      "Found an odd number: 7\n",
      "Found an even number: 8\n",
      "Found an odd number: 9\n"
     ]
    }
   ],
   "source": [
    "# For loop: iterate over some set of items\n",
    "colors = ['red', 'yellow', 'blue']\n",
    "for color in colors:\n",
    "    print(color)\n",
    "\n",
    "comp_colors = ['green', 'purple', 'orange']\n",
    "for i in range(len(comp_colors)):\n",
    "    print(colors[i], comp_colors[i])\n",
    "\n",
    "for j in range(5):\n",
    "    print(j)\n",
    "\n",
    "for n in range(2, 10):\n",
    "    for x in range(2, n):\n",
    "        if n % x == 0:\n",
    "            print(n, 'equals', x, '*', n//x)\n",
    "            break\n",
    "    else:\n",
    "        print(n, 'is a prime number')\n",
    "\n",
    "# continue statement: \n",
    "for num in range(2, 10):\n",
    "    if num % 2 == 0:\n",
    "        print(\"Found an even number:\", num)\n",
    "        continue\n",
    "    print(\"Found an odd number:\", num)\n",
    "\n",
    "\n",
    "# break statement\n",
    "for num in range(2, 10):\n",
    "  if num % 2 == 0:\n",
    "      print(\"Found an even number:\", num)\n",
    "      break\n",
    "  print(\"Found an odd number:\", num)"
   ]
  },
  {
   "cell_type": "code",
   "execution_count": 94,
   "metadata": {},
   "outputs": [
    {
     "name": "stdout",
     "output_type": "stream",
     "text": [
      "1, 1, 2, 3, 5, 8, 13, 21, 34, 55, 89, "
     ]
    }
   ],
   "source": [
    "# While loop: \n",
    "# A while loop iterates for as long as some logical condition remains true\n",
    "a, b = 0, 1\n",
    "\n",
    "while b < 100:\n",
    "    print(b, end=', ')\n",
    "    a, b = b, a+b"
   ]
  },
  {
   "cell_type": "code",
   "execution_count": 97,
   "metadata": {},
   "outputs": [
    {
     "name": "stdout",
     "output_type": "stream",
     "text": [
      "0, 1, 1, 2, 3, 5, 8, 13, 21, 34, 55, 89, 144, 233, 377, 610, 987, 1597, "
     ]
    },
    {
     "data": {
      "text/plain": [
       "[1, 3, 5, 7, 9]"
      ]
     },
     "execution_count": 97,
     "metadata": {},
     "output_type": "execute_result"
    }
   ],
   "source": [
    "# Functions: \n",
    "\n",
    "def fib(n):\n",
    "    \"\"\"Print a Fibonacci series up to n.\"\"\"\n",
    "    a, b = 0, 1\n",
    "    while a < n:\n",
    "        print(a, end=', ')\n",
    "        a, b = b, a+b\n",
    "\n",
    "fib(2000)\n",
    "\n",
    "# Anonymous functions are called lambda functions because you use the lambda keyword when you define them. Lambda functions can contain any number of arguments but only one expression. \n",
    "\n",
    "nums = [1, 2, 3, 4, 5, 6, 7, 8, 9, 10]\n",
    "list(filter(lambda x: x % 2 != 0, nums))"
   ]
  },
  {
   "cell_type": "code",
   "execution_count": 100,
   "metadata": {},
   "outputs": [
    {
     "data": {
      "text/plain": [
       "120"
      ]
     },
     "execution_count": 100,
     "metadata": {},
     "output_type": "execute_result"
    }
   ],
   "source": [
    "# Modules:\n",
    "import math\n",
    "math.factorial(5)\n",
    "\n",
    "from math import factorial\n",
    "factorial(5)"
   ]
  }
 ],
 "metadata": {
  "kernelspec": {
   "display_name": "myenv",
   "language": "python",
   "name": "python3"
  },
  "language_info": {
   "codemirror_mode": {
    "name": "ipython",
    "version": 3
   },
   "file_extension": ".py",
   "mimetype": "text/x-python",
   "name": "python",
   "nbconvert_exporter": "python",
   "pygments_lexer": "ipython3",
   "version": "3.10.10"
  },
  "orig_nbformat": 4
 },
 "nbformat": 4,
 "nbformat_minor": 2
}
