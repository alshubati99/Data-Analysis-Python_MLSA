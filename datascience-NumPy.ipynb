{
 "cells": [
  {
   "attachments": {},
   "cell_type": "markdown",
   "metadata": {},
   "source": [
    "NumPy is one of the two most important libraries in Python for data science, along with pandas. NumPy is a crucial library for effectively loading, storing, and manipulating in-memory data in Python. All these tasks will be at the heart of what you do with data science in Python.\n",
    "\n"
   ]
  },
  {
   "cell_type": "code",
   "execution_count": null,
   "metadata": {},
   "outputs": [],
   "source": [
    "# import numbpy: \n",
    "import numpy as np"
   ]
  },
  {
   "cell_type": "code",
   "execution_count": 13,
   "metadata": {},
   "outputs": [
    {
     "data": {
      "text/plain": [
       "array([[1., 0., 0.],\n",
       "       [0., 1., 0.],\n",
       "       [0., 0., 1.]])"
      ]
     },
     "execution_count": 13,
     "metadata": {},
     "output_type": "execute_result"
    }
   ],
   "source": [
    "# Numby Arrays: \n",
    "import numpy as np\n",
    "np.array([1, 4, 2, 5, 3]) \n",
    "\n",
    "np.array([3.14, 'pi', 3])\n",
    "\n",
    "np.array([1, 2, 3, 4], dtype='float32')\n",
    "\n",
    "# Multidimimensional Array: \n",
    "\n",
    "np.array([range(i, i + 3) for i in [2, 4, 6]])\n",
    "\n",
    "# Create an integer array of length 10 that's filled with zeros:\n",
    "np.zeros(10, dtype=int)\n",
    "\n",
    "# Create a 3 x 5 floating-point array that's filled with ones:\n",
    "np.ones((3, 5), dtype=float)\n",
    "\n",
    "# Create a 3 x 5 array that's filled with 3.14s. The first number in the tuple gives the number of rows. The second number in the tuple sets the number of columns:\n",
    "\n",
    "np.full((3, 5), 3.14)\n",
    "\n",
    "# Create a 3 x 3 array of uniformly distributed random values between 0 and 1:\n",
    "np.random.random((3, 3))\n",
    "\n",
    "# Create a 3 x 3 array of normally distributed random values with mean 0 and standard deviation 1:\n",
    "np.random.normal(0, 1, (3, 3))\n",
    "\n",
    "#Create a 3 x 3 array of random integers in the interval [0, 10):\n",
    "np.random.randint(0, 10, (3, 3))\n",
    "\n",
    "# Create a 3 x 3 identity matrix:\n",
    "np.eye(3)\n"
   ]
  },
  {
   "cell_type": "code",
   "execution_count": 16,
   "metadata": {},
   "outputs": [
    {
     "name": "stdout",
     "output_type": "stream",
     "text": [
      "a1 ndim:  1\n",
      "a1 shape: (6,)\n",
      "a1 size:  6\n",
      "dtype: int32\n"
     ]
    }
   ],
   "source": [
    "# Array Attributes:\n",
    "import numpy as np\n",
    "np.random.seed(0)  # Seed for reproducibility\n",
    "\n",
    "a1 = np.random.randint(10, size=6)  # One-dimensional array\n",
    "a2 = np.random.randint(10, size=(3, 4))  # Two-dimensional array\n",
    "a3 = np.random.randint(10, size=(3, 4, 5))  # Three-dimensional array\n",
    "\n",
    "print(\"a1 ndim: \", a1.ndim)\n",
    "print(\"a1 shape:\", a1.shape)\n",
    "print(\"a1 size: \", a1.size)\n",
    "print(\"dtype:\", a3.dtype)\n"
   ]
  },
  {
   "cell_type": "code",
   "execution_count": 28,
   "metadata": {},
   "outputs": [
    {
     "data": {
      "text/plain": [
       "array([[7, 7, 6, 1],\n",
       "       [8, 8, 6, 7],\n",
       "       [4, 2, 5, 3]])"
      ]
     },
     "execution_count": 28,
     "metadata": {},
     "output_type": "execute_result"
    }
   ],
   "source": [
    "# Slicing arrays: \n",
    "# a[start:stop:step]\n",
    "a = np.arange(10)\n",
    "a\n",
    "a[:5]\n",
    "a[5:]\n",
    "a[4:7]\n",
    "a[::2]\n",
    "a[1::2]\n",
    "a[5::-2]\n",
    "a2\n",
    "a2[:2, :3]\n",
    "a2[:3, ::2]\n",
    "a2[::-1, ::-1]"
   ]
  },
  {
   "cell_type": "code",
   "execution_count": 32,
   "metadata": {},
   "outputs": [
    {
     "name": "stdout",
     "output_type": "stream",
     "text": [
      "[3 7 1]\n",
      "[3 5 2 4]\n",
      "[3 5 2 4]\n"
     ]
    },
    {
     "data": {
      "text/plain": [
       "array([[5, 3, 2, 3],\n",
       "       [9, 3, 0, 8],\n",
       "       [8, 9, 0, 4]])"
      ]
     },
     "execution_count": 32,
     "metadata": {},
     "output_type": "execute_result"
    }
   ],
   "source": [
    "# Accessing array rows and columns: \n",
    "print(a2[:, 0])\n",
    "print(a2[0, :])\n",
    "print(a2[0])  # Equivalent to a2[0, :]\n",
    "a3[:,:,2]"
   ]
  },
  {
   "cell_type": "code",
   "execution_count": 35,
   "metadata": {},
   "outputs": [
    {
     "name": "stdout",
     "output_type": "stream",
     "text": [
      "[[3 5]\n",
      " [7 6]]\n",
      "[[42  5]\n",
      " [ 7  6]]\n",
      "[[3 5 2 4]\n",
      " [7 6 8 8]\n",
      " [1 6 7 7]]\n"
     ]
    }
   ],
   "source": [
    "# Copying arrays: \n",
    "a2_sub_copy = a2[:2, :2].copy()\n",
    "print(a2_sub_copy)\n",
    "\n",
    "a2_sub_copy[0, 0] = 42\n",
    "print(a2_sub_copy)\n",
    "\n",
    "print(a2)"
   ]
  },
  {
   "cell_type": "code",
   "execution_count": 40,
   "metadata": {},
   "outputs": [
    {
     "name": "stdout",
     "output_type": "stream",
     "text": [
      "[[1 2 3]\n",
      " [4 5 6]\n",
      " [7 8 9]]\n"
     ]
    },
    {
     "data": {
      "text/plain": [
       "array([[1],\n",
       "       [2],\n",
       "       [3]])"
      ]
     },
     "execution_count": 40,
     "metadata": {},
     "output_type": "execute_result"
    }
   ],
   "source": [
    "# Reshaping arrays: \n",
    "grid = np.arange(1, 10).reshape((3, 3))\n",
    "print(grid)\n",
    "\n",
    "a = np.array([1, 2, 3])\n",
    "a.reshape((1, 3))\n",
    "\n",
    "a[np.newaxis, :]\n",
    "\n",
    "a.reshape((3, 1))\n",
    "\n",
    "a[:, np.newaxis]"
   ]
  },
  {
   "cell_type": "code",
   "execution_count": 45,
   "metadata": {},
   "outputs": [
    {
     "name": "stdout",
     "output_type": "stream",
     "text": [
      "[ 1  2  3  3  2  1 99 99 99]\n"
     ]
    },
    {
     "data": {
      "text/plain": [
       "array([[1, 2, 3, 1, 2, 3],\n",
       "       [4, 5, 6, 4, 5, 6]])"
      ]
     },
     "execution_count": 45,
     "metadata": {},
     "output_type": "execute_result"
    }
   ],
   "source": [
    "# Joining and splitting arrays: \n",
    "\n",
    "a = np.array([1, 2, 3])\n",
    "b = np.array([3, 2, 1])\n",
    "np.concatenate([a, b])\n",
    "\n",
    "c = [99, 99, 99]\n",
    "print(np.concatenate([a, b, c]))\n",
    "\n",
    "grid = np.array([[1, 2, 3],\n",
    "                 [4, 5, 6]])\n",
    "\n",
    "np.concatenate([grid, grid])\n",
    "\n",
    "np.concatenate([grid, grid], axis=1)"
   ]
  },
  {
   "cell_type": "code",
   "execution_count": 49,
   "metadata": {},
   "outputs": [
    {
     "name": "stdout",
     "output_type": "stream",
     "text": [
      "[1 2 3] [99 99] [3 2 1]\n"
     ]
    },
    {
     "data": {
      "text/plain": [
       "[array([[ 0],\n",
       "        [ 4],\n",
       "        [ 8],\n",
       "        [12]]),\n",
       " array([[ 1],\n",
       "        [ 5],\n",
       "        [ 9],\n",
       "        [13]]),\n",
       " array([[ 2,  3],\n",
       "        [ 6,  7],\n",
       "        [10, 11],\n",
       "        [14, 15]])]"
      ]
     },
     "execution_count": 49,
     "metadata": {},
     "output_type": "execute_result"
    }
   ],
   "source": [
    "# Splitting arrays: \n",
    "a = [1, 2, 3, 99, 99, 3, 2, 1]\n",
    "a1, a2, a3 = np.split(a, [3, 5])\n",
    "print(a1, a2, a3)\n",
    "\n",
    "grid = np.arange(16).reshape((4, 4))\n",
    "grid\n",
    "\n",
    "np.split(grid, [1, 2])\n",
    "\n",
    "np.split(grid, [1, 2], axis=1)"
   ]
  },
  {
   "cell_type": "code",
   "execution_count": 62,
   "metadata": {},
   "outputs": [
    {
     "name": "stdout",
     "output_type": "stream",
     "text": [
      "[51 92 14 71 60 20 82 86 74 74]\n"
     ]
    },
    {
     "data": {
      "text/plain": [
       "array([[0, 2, 4],\n",
       "       [0, 1, 2],\n",
       "       [0, 3, 6]])"
      ]
     },
     "execution_count": 62,
     "metadata": {},
     "output_type": "execute_result"
    }
   ],
   "source": [
    "# Fancy Indexing: \n",
    "rand = np.random.RandomState(42)\n",
    "\n",
    "arr = rand.randint(100, size=10)\n",
    "print(arr)\n",
    "\n",
    "[arr[3], arr[7], arr[2]]\n",
    "\n",
    "ind = [3, 7, 4]\n",
    "arr[ind]\n",
    "\n",
    "\n",
    "ind = np.array([[3, 7],\n",
    "                [4, 5]])\n",
    "arr[ind]\n",
    "\n",
    "\n",
    "arr2 = np.arange(12).reshape((3, 4))\n",
    "arr2\n",
    "\n",
    "row = np.array([0, 1, 2])\n",
    "col = np.array([2, 1, 3])\n",
    "arr2[row, col]\n",
    "\n",
    "arr2[row[:, np.newaxis], col]\n",
    "\n",
    "row[:, np.newaxis] * col\n",
    "\n",
    "row[:, np.newaxis] * row\n",
    "\n",
    "col[:, np.newaxis] * row"
   ]
  },
  {
   "cell_type": "code",
   "execution_count": 65,
   "metadata": {},
   "outputs": [
    {
     "name": "stdout",
     "output_type": "stream",
     "text": [
      "[[ 0  1  2  3]\n",
      " [ 4  5  6  7]\n",
      " [ 8  9 10 11]]\n"
     ]
    },
    {
     "data": {
      "text/plain": [
       "array([[ 0,  2],\n",
       "       [ 4,  6],\n",
       "       [ 8, 10]])"
      ]
     },
     "execution_count": 65,
     "metadata": {},
     "output_type": "execute_result"
    }
   ],
   "source": [
    "# Combined indexing: \n",
    "print(arr2)\n",
    "\n",
    "arr2[1:, [2, 0, 1]]\n",
    "\n",
    "mask = np.array([1, 0, 1, 0], dtype=bool)\n",
    "arr2[row[:, np.newaxis], mask]\n",
    "\n"
   ]
  },
  {
   "cell_type": "code",
   "execution_count": 70,
   "metadata": {},
   "outputs": [
    {
     "name": "stdout",
     "output_type": "stream",
     "text": [
      "[ 0 99 99  3 99  5  6  7 99  9]\n",
      "[ 0 89 89  3 89  5  6  7 89  9]\n",
      "[6. 0. 0. 0. 0. 0. 0. 0. 0. 0.]\n",
      "[0. 1. 1. 0. 1. 0. 0. 0. 1. 0.]\n",
      "[0. 0. 0. 0. 0. 0. 0. 0. 0. 0.]\n"
     ]
    }
   ],
   "source": [
    "# Modifying values by using fancy indexing: \n",
    "ind = np.arange(10)\n",
    "arr = np.array([2, 1, 8, 4])\n",
    "ind[arr] = 99\n",
    "print(ind)\n",
    "\n",
    "ind[arr] -= 10\n",
    "print(ind)\n",
    "\n",
    "ind = np.zeros(10)\n",
    "ind[[0, 0]] = [4, 6]\n",
    "print(ind)\n",
    "\n",
    "ind = np.zeros(10)\n",
    "np.add.at(ind, arr, 1)\n",
    "print(ind)\n",
    "\n",
    "np.subtract.at(ind, arr, 1)\n",
    "print(ind)"
   ]
  },
  {
   "cell_type": "code",
   "execution_count": 76,
   "metadata": {},
   "outputs": [
    {
     "name": "stdout",
     "output_type": "stream",
     "text": [
      "[1 2 3 4 5]\n",
      "[1 0 3 2 4]\n",
      "[[6 3 7 4 6 9]\n",
      " [2 6 7 4 3 7]\n",
      " [7 2 5 4 1 7]\n",
      " [5 1 4 0 9 5]]\n"
     ]
    },
    {
     "data": {
      "text/plain": [
       "array([[2, 1, 4, 0, 1, 5],\n",
       "       [5, 2, 5, 4, 3, 7],\n",
       "       [6, 3, 7, 4, 6, 7],\n",
       "       [7, 6, 7, 4, 9, 9]])"
      ]
     },
     "execution_count": 76,
     "metadata": {},
     "output_type": "execute_result"
    }
   ],
   "source": [
    "# Sorting arrays: \n",
    "a = np.array([2, 1, 4, 3, 5])\n",
    "np.sort(a)\n",
    "\n",
    "a.sort()\n",
    "print(a)\n",
    "\n",
    "a = np.array([2, 1, 4, 3, 5])\n",
    "b = np.argsort(a)\n",
    "print(b)\n",
    "\n",
    "a[b]\n",
    "\n",
    "rand = np.random.RandomState(42)\n",
    "table = rand.randint(0, 10, (4, 6))\n",
    "print(table)\n",
    "\n",
    "np.sort(table, axis=0)"
   ]
  },
  {
   "cell_type": "code",
   "execution_count": 78,
   "metadata": {},
   "outputs": [
    {
     "data": {
      "text/plain": [
       "array([[3, 4, 6, 7, 6, 9],\n",
       "       [2, 3, 4, 7, 6, 7],\n",
       "       [1, 2, 4, 5, 7, 7],\n",
       "       [0, 1, 4, 5, 9, 5]])"
      ]
     },
     "execution_count": 78,
     "metadata": {},
     "output_type": "execute_result"
    }
   ],
   "source": [
    "# Partial Sorting Prtiioning: \n",
    "arr = np.array([7, 2, 3, 1, 6, 5, 4])\n",
    "np.partition(arr, 3)\n",
    "\n",
    "np.partition(table, 2, axis=1)"
   ]
  },
  {
   "cell_type": "code",
   "execution_count": 80,
   "metadata": {},
   "outputs": [
    {
     "name": "stdout",
     "output_type": "stream",
     "text": [
      "1.44 s ± 43.5 ms per loop (mean ± std. dev. of 7 runs, 1 loop each)\n"
     ]
    }
   ],
   "source": [
    "# Efficient computation on NumPy arrays: Universal functions: \n",
    "\n",
    "import numpy as np\n",
    "np.random.seed(0)\n",
    "\n",
    "def compute_reciprocals(values):\n",
    "    output = np.empty(len(values))\n",
    "    for i in range(len(values)):\n",
    "        output[i] = 1.0 / values[i]\n",
    "    return output\n",
    "\n",
    "values = np.random.randint(1, 10, size=5)\n",
    "compute_reciprocals(values)\n",
    "\n",
    "big_array = np.random.randint(1, 100, size=1000000)\n",
    "%timeit compute_reciprocals(big_array)"
   ]
  },
  {
   "cell_type": "code",
   "execution_count": 81,
   "metadata": {},
   "outputs": [
    {
     "name": "stdout",
     "output_type": "stream",
     "text": [
      "3.08 ms ± 246 µs per loop (mean ± std. dev. of 7 runs, 100 loops each)\n"
     ]
    }
   ],
   "source": [
    "# Ufuncs: \n",
    "%timeit (1.0 / big_array)"
   ]
  },
  {
   "cell_type": "code",
   "execution_count": 91,
   "metadata": {},
   "outputs": [
    {
     "name": "stdout",
     "output_type": "stream",
     "text": [
      "a     = [0 1 2 3]\n",
      "a + 5 = [5 6 7 8]\n",
      "a - 5 = [-5 -4 -3 -2]\n",
      "a * 2 = [0 2 4 6]\n",
      "a / 2 = [0.  0.5 1.  1.5]\n",
      "a // 2 = [0 0 1 1]\n",
      "-a     =  [ 0 -1 -2 -3]\n",
      "a ** 2 =  [0 1 4 9]\n",
      "a % 2  =  [0 1 0 1]\n",
      "a     = [1, 2, 3]\n",
      "e^a   = [ 2.71828183  7.3890561  20.08553692]\n",
      "2^a   = [2. 4. 8.]\n",
      "3^a   = [ 3  9 27]\n",
      "a        = [1, 2, 4, 10]\n",
      "ln(a)    = [0.         0.69314718 1.38629436 2.30258509]\n",
      "log2(a)  = [0.         1.         2.         3.32192809]\n",
      "log10(a) = [0.         0.30103    0.60205999 1.        ]\n"
     ]
    }
   ],
   "source": [
    "# Array arithmetic: \n",
    "a = np.arange(4)\n",
    "print(\"a     =\", a)\n",
    "print(\"a + 5 =\", a + 5)\n",
    "print(\"a - 5 =\", a - 5)\n",
    "print(\"a * 2 =\", a * 2)\n",
    "print(\"a / 2 =\", a / 2)\n",
    "print(\"a // 2 =\", a // 2)  # Floor division\n",
    "\n",
    "print(\"-a     = \", -a)\n",
    "print(\"a ** 2 = \", a ** 2)\n",
    "print(\"a % 2  = \", a % 2)\n",
    "\n",
    "-(0.5*a + 1) ** 2\n",
    "\n",
    "np.add(a, 2)\n",
    "\n",
    "# Absolute Value:\n",
    "a = np.array([-2, -1, 0, 1, 2])\n",
    "abs(a)\n",
    "\n",
    "np.absolute(a)\n",
    "np.abs(a)\n",
    "\n",
    "# Exponents and logarithms: \n",
    "a = [1, 2, 3]\n",
    "print(\"a     =\", a)\n",
    "print(\"e^a   =\", np.exp(a))\n",
    "print(\"2^a   =\", np.exp2(a))\n",
    "print(\"3^a   =\", np.power(3, a))\n",
    "\n",
    "a = [1, 2, 4, 10]\n",
    "print(\"a        =\", a)\n",
    "print(\"ln(a)    =\", np.log(a))\n",
    "print(\"log2(a)  =\", np.log2(a))\n",
    "print(\"log10(a) =\", np.log10(a))\n"
   ]
  },
  {
   "cell_type": "code",
   "execution_count": 92,
   "metadata": {},
   "outputs": [
    {
     "name": "stdout",
     "output_type": "stream",
     "text": [
      "gamma(a)     = [1.0000e+00 2.4000e+01 3.6288e+05]\n",
      "ln|gamma(a)| = [ 0.          3.17805383 12.80182748]\n",
      "beta(a, 2)   = [0.5        0.03333333 0.00909091]\n"
     ]
    }
   ],
   "source": [
    "# Specialized ufuncs: \n",
    "from scipy import special\n",
    "\n",
    "a = [1, 5, 10]\n",
    "print(\"gamma(a)     =\", special.gamma(a))\n",
    "print(\"ln|gamma(a)| =\", special.gammaln(a))\n",
    "print(\"beta(a, 2)   =\", special.beta(a, 2))"
   ]
  },
  {
   "cell_type": "code",
   "execution_count": 95,
   "metadata": {},
   "outputs": [
    {
     "name": "stdout",
     "output_type": "stream",
     "text": [
      "72 ms ± 3.88 ms per loop (mean ± std. dev. of 7 runs, 10 loops each)\n",
      "1.13 ms ± 121 µs per loop (mean ± std. dev. of 7 runs, 1,000 loops each)\n"
     ]
    }
   ],
   "source": [
    "# Summing the values of an array: \n",
    "myList = np.random.random(100)\n",
    "sum(myList)\n",
    "np.sum(myList)\n",
    "\n",
    "large_array = np.random.rand(1000000)\n",
    "%timeit sum(large_array)\n",
    "%timeit np.sum(large_array)\n"
   ]
  },
  {
   "cell_type": "code",
   "execution_count": 97,
   "metadata": {},
   "outputs": [
    {
     "name": "stdout",
     "output_type": "stream",
     "text": [
      "7.071203171893359e-07 0.9999997207656334 500213.2396620991\n"
     ]
    }
   ],
   "source": [
    "# Minimum and maximum: \n",
    "np.min(large_array), np.max(large_array)\n",
    "\n",
    "print(large_array.min(), large_array.max(), large_array.sum())"
   ]
  },
  {
   "cell_type": "code",
   "execution_count": 100,
   "metadata": {},
   "outputs": [
    {
     "name": "stdout",
     "output_type": "stream",
     "text": [
      "[[0.02461419 0.88905646 0.51051681 0.93157766]\n",
      " [0.72024497 0.16963688 0.48246213 0.34246825]\n",
      " [0.59118864 0.10465831 0.01258607 0.74123982]]\n"
     ]
    },
    {
     "data": {
      "text/plain": [
       "array([0.02461419, 0.10465831, 0.01258607, 0.34246825])"
      ]
     },
     "execution_count": 100,
     "metadata": {},
     "output_type": "execute_result"
    }
   ],
   "source": [
    "# Multidimensional aggregates: \n",
    "\n",
    "md = np.random.random((3, 4))\n",
    "print(md)\n",
    "\n",
    "md.sum()\n",
    "\n",
    "md.min(axis=0)"
   ]
  },
  {
   "cell_type": "code",
   "execution_count": 108,
   "metadata": {},
   "outputs": [
    {
     "name": "stdout",
     "output_type": "stream",
     "text": [
      "[0 1 2]\n",
      "[[0]\n",
      " [1]\n",
      " [2]]\n"
     ]
    },
    {
     "data": {
      "text/plain": [
       "array([[0, 1, 2],\n",
       "       [1, 2, 3],\n",
       "       [2, 3, 4]])"
      ]
     },
     "execution_count": 108,
     "metadata": {},
     "output_type": "execute_result"
    }
   ],
   "source": [
    "# Computation on arrays by using broadcasting: \n",
    "first_array = np.array([3, 6, 8, 1])\n",
    "second_array = np.array([4, 5, 7, 2])\n",
    "first_array + second_array\n",
    "\n",
    "first_array + 5\n",
    "\n",
    "one_dim_array = np.ones((1))\n",
    "one_dim_array\n",
    "\n",
    "two_dim_array = np.ones((2, 2))\n",
    "two_dim_array\n",
    "\n",
    "one_dim_array + two_dim_array\n",
    "\n",
    "horizontal_array = np.arange(3)\n",
    "vertical_array = np.arange(3)[:, np.newaxis]\n",
    "\n",
    "print(horizontal_array)\n",
    "print(vertical_array)\n",
    "\n",
    "horizontal_array + vertical_array"
   ]
  },
  {
   "cell_type": "code",
   "execution_count": 120,
   "metadata": {},
   "outputs": [
    {
     "data": {
      "text/plain": [
       "array([[ 3.98864045e-01, -2.83863392e-01,  4.34471313e-02],\n",
       "       [-1.51660845e-01, -3.85529547e-01,  1.75398818e-01],\n",
       "       [-1.21862907e-01, -2.73706075e-01,  2.22446952e-01],\n",
       "       [-5.58931896e-01,  4.33692111e-01, -8.91574349e-02],\n",
       "       [ 1.20837670e-01,  2.73739639e-01, -1.19951342e-01],\n",
       "       [-1.61932656e-01,  1.10662434e-01, -1.69278155e-01],\n",
       "       [-4.38008481e-02,  3.13830437e-01, -3.54582935e-04],\n",
       "       [-3.85545836e-02, -3.22704199e-02,  2.24107463e-02],\n",
       "       [ 3.34562322e-01, -2.54244881e-01,  2.00460151e-01],\n",
       "       [ 2.22479699e-01,  9.76896949e-02, -2.85422285e-01]])"
      ]
     },
     "execution_count": 120,
     "metadata": {},
     "output_type": "execute_result"
    }
   ],
   "source": [
    "# Rules of broadcasting: \n",
    "\n",
    "two_dim_array = np.ones((2, 3))\n",
    "one_dim_array = np.arange(3)\n",
    "\n",
    "two_dim_array + one_dim_array\n",
    "\n",
    "two_dim_array = np.ones((3, 2))\n",
    "two_dim_array\n",
    "\n",
    "vertical_array = np.arange(3).reshape((3, 1))\n",
    "horizontal_array = np.arange(3)\n",
    "\n",
    "vertical_array + horizontal_array\n",
    "\n",
    "T = np.random.random((10, 3))\n",
    "T\n",
    "\n",
    "Tmean = T.mean(0)\n",
    "Tmean\n",
    "\n",
    "T_centered = T - Tmean\n",
    "T_centered"
   ]
  },
  {
   "cell_type": "code",
   "execution_count": 133,
   "metadata": {},
   "outputs": [
    {
     "data": {
      "text/plain": [
       "array([[ True,  True,  True,  True],\n",
       "       [False, False,  True,  True],\n",
       "       [ True,  True, False, False]])"
      ]
     },
     "execution_count": 133,
     "metadata": {},
     "output_type": "execute_result"
    }
   ],
   "source": [
    "# Comparisons, masks, and Boolean logic in NumPy: \n",
    "import numpy as np\n",
    "import pandas as pd\n",
    "\n",
    "%matplotlib inline\n",
    "import matplotlib.pyplot as plt\n",
    "\n",
    "# Comparison operators as ufuncs: \n",
    "simple_array = np.array([1, 2, 3, 4, 5])\n",
    "simple_array < 2\n",
    "simple_array >= 4\n",
    "simple_array == 2\n",
    "(2 * simple_array) == (simple_array ** 2)\n",
    "\n",
    "rand = np.random.RandomState(0)\n",
    "two_dim_array = rand.randint(10, size=(3, 4))\n",
    "two_dim_array\n",
    "two_dim_array < 6"
   ]
  },
  {
   "cell_type": "code",
   "execution_count": 143,
   "metadata": {},
   "outputs": [
    {
     "name": "stdout",
     "output_type": "stream",
     "text": [
      "[[5 0 3 3]\n",
      " [7 9 3 5]\n",
      " [2 4 7 6]]\n"
     ]
    },
    {
     "data": {
      "text/plain": [
       "array([ True, False, False])"
      ]
     },
     "execution_count": 143,
     "metadata": {},
     "output_type": "execute_result"
    }
   ],
   "source": [
    "# Working with Boolean arrays: \n",
    "print(two_dim_array)\n",
    "\n",
    "# Counting Entries:\n",
    "np.count_nonzero(two_dim_array < 6)\n",
    "\n",
    "np.sum(two_dim_array < 5, axis=1)\n",
    "\n",
    "np.any(two_dim_array < 0)\n",
    "\n",
    "np.all(two_dim_array < 10)\n",
    "\n",
    "np.all(two_dim_array < 7, axis=1)\n",
    "\n"
   ]
  },
  {
   "cell_type": "code",
   "execution_count": 145,
   "metadata": {},
   "outputs": [
    {
     "data": {
      "text/plain": [
       "array([[False,  True,  True,  True],\n",
       "       [False, False,  True, False],\n",
       "       [ True,  True, False, False]])"
      ]
     },
     "execution_count": 145,
     "metadata": {},
     "output_type": "execute_result"
    }
   ],
   "source": [
    "# Boolean arrays as masks: \n",
    "two_dim_array\n",
    "two_dim_array < 5"
   ]
  }
 ],
 "metadata": {
  "kernelspec": {
   "display_name": "myenv",
   "language": "python",
   "name": "python3"
  },
  "language_info": {
   "codemirror_mode": {
    "name": "ipython",
    "version": 3
   },
   "file_extension": ".py",
   "mimetype": "text/x-python",
   "name": "python",
   "nbconvert_exporter": "python",
   "pygments_lexer": "ipython3",
   "version": "3.10.10"
  },
  "orig_nbformat": 4
 },
 "nbformat": 4,
 "nbformat_minor": 2
}
