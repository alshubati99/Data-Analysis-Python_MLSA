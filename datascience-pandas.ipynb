{
 "cells": [
  {
   "attachments": {},
   "cell_type": "markdown",
   "metadata": {},
   "source": [
    "The pandas library in Python makes working with data — like importing, cleaning, and organizing it — easier. It's hard to imagine doing data science in Python without it.\n",
    "The most widely used data structures in pandas: `Series` and `DataFrames`.\n"
   ]
  },
  {
   "cell_type": "code",
   "execution_count": 23,
   "metadata": {},
   "outputs": [],
   "source": [
    "import pandas as pd \n",
    "import numpy as np\n"
   ]
  },
  {
   "cell_type": "code",
   "execution_count": 24,
   "metadata": {},
   "outputs": [
    {
     "name": "stdout",
     "output_type": "stream",
     "text": [
      "0.75\n"
     ]
    },
    {
     "data": {
      "text/plain": [
       "0.75"
      ]
     },
     "execution_count": 24,
     "metadata": {},
     "output_type": "execute_result"
    }
   ],
   "source": [
    "# Series Object in Pandas\n",
    "Series_example = pd.Series([-0.5, 0.75, 1.0, -2])\n",
    "Series_example\n",
    "Series_example.values\n",
    "Series_example.index\n",
    "print(Series_example[1])\n",
    "Series_example[1:3]\n",
    "Series_example2 = pd.Series([-0.5, 0.75, 1.0, -2], index=['a', 'b', 'c', 'd'])\n",
    "Series_example2\n",
    "Series_example2['b']"
   ]
  },
  {
   "cell_type": "code",
   "execution_count": 25,
   "metadata": {},
   "outputs": [
    {
     "data": {
      "text/plain": [
       "143910127"
      ]
     },
     "execution_count": 25,
     "metadata": {},
     "output_type": "execute_result"
    }
   ],
   "source": [
    "# Dictionaries: \n",
    "population_dict = { 'France': 65429495,\n",
    "                    'Germany': 82408706,\n",
    "                    'Russia': 143910127,\n",
    "                    'Japan': 126922333 }\n",
    "population = pd.Series(population_dict)\n",
    "population\n",
    "population['Russia']\n"
   ]
  },
  {
   "cell_type": "code",
   "execution_count": 38,
   "metadata": {},
   "outputs": [
    {
     "data": {
      "text/html": [
       "<div>\n",
       "<style scoped>\n",
       "    .dataframe tbody tr th:only-of-type {\n",
       "        vertical-align: middle;\n",
       "    }\n",
       "\n",
       "    .dataframe tbody tr th {\n",
       "        vertical-align: top;\n",
       "    }\n",
       "\n",
       "    .dataframe thead th {\n",
       "        text-align: right;\n",
       "    }\n",
       "</style>\n",
       "<table border=\"1\" class=\"dataframe\">\n",
       "  <thead>\n",
       "    <tr style=\"text-align: right;\">\n",
       "      <th></th>\n",
       "      <th>random</th>\n",
       "      <th>example</th>\n",
       "    </tr>\n",
       "  </thead>\n",
       "  <tbody>\n",
       "    <tr>\n",
       "      <th>a</th>\n",
       "      <td>0.903782</td>\n",
       "      <td>0.925866</td>\n",
       "    </tr>\n",
       "    <tr>\n",
       "      <th>b</th>\n",
       "      <td>0.223582</td>\n",
       "      <td>0.369454</td>\n",
       "    </tr>\n",
       "    <tr>\n",
       "      <th>c</th>\n",
       "      <td>0.334603</td>\n",
       "      <td>0.646476</td>\n",
       "    </tr>\n",
       "  </tbody>\n",
       "</table>\n",
       "</div>"
      ],
      "text/plain": [
       "     random   example\n",
       "a  0.903782  0.925866\n",
       "b  0.223582  0.369454\n",
       "c  0.334603  0.646476"
      ]
     },
     "execution_count": 38,
     "metadata": {},
     "output_type": "execute_result"
    }
   ],
   "source": [
    "# Data structures: DataFrames object\n",
    "area_dict = {'Albania': 28748,\n",
    "             'France': 643801,\n",
    "             'Germany': 357386,\n",
    "             'Japan': 377972,\n",
    "             'Russia': 17125200}\n",
    "area = pd.Series(area_dict)\n",
    "area\n",
    "\n",
    "countries = pd.DataFrame({'Population': population, 'Area': area})\n",
    "countries\n",
    "\n",
    "countries['Capital'] = ['Tirana', 'Paris', 'Berlin', 'Tokyo', 'Moscow']\n",
    "countries\n",
    "\n",
    "countries = countries[['Capital', 'Area', 'Population']]\n",
    "countries\n",
    "\n",
    "countries['Population Density'] = countries['Population'] / countries['Area']\n",
    "countries\n",
    "\n",
    "countries['Area']\n",
    "\n",
    "countries.loc['Japan']\n",
    "\n",
    "countries.loc['Japan']['Area']\n",
    "\n",
    "countries['Debt-to-GDP Ratio'] = np.nan\n",
    "countries\n",
    "\n",
    "debt = pd.Series([0.19, 2.36], index=['Russia', 'Japan'])\n",
    "countries['Debt-to-GDP Ratio'] = debt\n",
    "countries\n",
    "\n",
    "del countries['Capital']\n",
    "countries\n",
    "\n",
    "countries.T\n",
    "\n",
    "pd.DataFrame(np.random.rand(3, 2),\n",
    "             columns=['random', 'example'],\n",
    "             index=['a', 'b', 'c'])"
   ]
  },
  {
   "cell_type": "code",
   "execution_count": 60,
   "metadata": {},
   "outputs": [
    {
     "name": "stderr",
     "output_type": "stream",
     "text": [
      "C:\\Users\\DC\\AppData\\Local\\Temp\\ipykernel_21940\\3566388525.py:15: FutureWarning: Index.__and__ operating as a set operation is deprecated, in the future this will be a logical operation matching Series.__and__.  Use index.intersection(other) instead.\n",
      "  ind_odd & ind_prime\n",
      "C:\\Users\\DC\\AppData\\Local\\Temp\\ipykernel_21940\\3566388525.py:17: FutureWarning: Index.__or__ operating as a set operation is deprecated, in the future this will be a logical operation matching Series.__or__.  Use index.union(other) instead.\n",
      "  ind_odd | ind_prime\n",
      "C:\\Users\\DC\\AppData\\Local\\Temp\\ipykernel_21940\\3566388525.py:19: FutureWarning: Index.__xor__ operating as a set operation is deprecated, in the future this will be a logical operation matching Series.__xor__.  Use index.symmetric_difference(other) instead.\n",
      "  ind_odd ^ ind_prime\n"
     ]
    },
    {
     "data": {
      "text/plain": [
       "a   -0.50\n",
       "b    0.75\n",
       "dtype: float64"
      ]
     },
     "execution_count": 60,
     "metadata": {},
     "output_type": "execute_result"
    }
   ],
   "source": [
    "# Manipulate data in pandas: Index objects\n",
    "\n",
    "series_example = pd.Series([-0.5, 0.75, 1.0, -2], index=['a', 'b', 'c', 'd'])\n",
    "ind = series_example.index\n",
    "ind\n",
    "\n",
    "ind[1]\n",
    "\n",
    "ind[::2]\n",
    "\n",
    "# ind[1] = 0 Type error\n",
    "\n",
    "ind_odd = pd.Index([1, 3, 5, 7, 9])\n",
    "ind_prime = pd.Index([2, 3, 5, 7, 11])\n",
    "ind_odd & ind_prime\n",
    "\n",
    "ind_odd | ind_prime\n",
    "\n",
    "ind_odd ^ ind_prime\n",
    "\n",
    "series_example2 = pd.Series([-0.5, 0.75, 1.0, -2], index=['a', 'b', 'c', 'd'])\n",
    "series_example2\n",
    "\n",
    "series_example2['b']\n",
    "\n",
    "'a' in series_example2\n",
    "\n",
    "series_example2.keys()\n",
    "\n",
    "list(series_example2.items())\n",
    "\n",
    "series_example2['e'] = 1.25\n",
    "series_example2\n",
    "\n",
    "series_example2['a':'c']\n",
    "\n",
    "series_example2[0:2]\n",
    "\n",
    "series_example2[(series_example2 > -1) & (series_example2 < 0.8)] # masking\n",
    "\n",
    "series_example2[['a', 'e']] # fancy indexing\n",
    "\n",
    "# The loc attribute allows indexing and slicing that always references the explicit index:\n",
    "\n",
    "series_example2.loc['a']\n",
    "series_example2.loc['a':'c']\n",
    "\n",
    "# The iloc attribute enables indexing and slicing by using the implicit, Python-style index:\n",
    "\n",
    "series_example2.iloc[0]\n",
    "series_example2.iloc[0:2]\n"
   ]
  },
  {
   "cell_type": "code",
   "execution_count": 73,
   "metadata": {},
   "outputs": [
    {
     "data": {
      "text/html": [
       "<div>\n",
       "<style scoped>\n",
       "    .dataframe tbody tr th:only-of-type {\n",
       "        vertical-align: middle;\n",
       "    }\n",
       "\n",
       "    .dataframe tbody tr th {\n",
       "        vertical-align: top;\n",
       "    }\n",
       "\n",
       "    .dataframe thead th {\n",
       "        text-align: right;\n",
       "    }\n",
       "</style>\n",
       "<table border=\"1\" class=\"dataframe\">\n",
       "  <thead>\n",
       "    <tr style=\"text-align: right;\">\n",
       "      <th></th>\n",
       "      <th>Area</th>\n",
       "      <th>Population</th>\n",
       "      <th>Population Density</th>\n",
       "    </tr>\n",
       "  </thead>\n",
       "  <tbody>\n",
       "    <tr>\n",
       "      <th>France</th>\n",
       "      <td>643801</td>\n",
       "      <td>65429495</td>\n",
       "      <td>101.629999</td>\n",
       "    </tr>\n",
       "    <tr>\n",
       "      <th>Germany</th>\n",
       "      <td>357386</td>\n",
       "      <td>82408706</td>\n",
       "      <td>230.587393</td>\n",
       "    </tr>\n",
       "  </tbody>\n",
       "</table>\n",
       "</div>"
      ],
      "text/plain": [
       "           Area  Population  Population Density\n",
       "France   643801    65429495          101.629999\n",
       "Germany  357386    82408706          230.587393"
      ]
     },
     "execution_count": 73,
     "metadata": {},
     "output_type": "execute_result"
    }
   ],
   "source": [
    "# Select data in DataFrames objects \n",
    "\n",
    "area = pd.Series({'Albania': 28748,\n",
    "                  'France': 643801,\n",
    "                  'Germany': 357386,\n",
    "                  'Japan': 377972,\n",
    "                  'Russia': 17125200})\n",
    "population = pd.Series ({'Albania': 2937590,\n",
    "                         'France': 65429495,\n",
    "                         'Germany': 82408706,\n",
    "                         'Russia': 143910127,\n",
    "                         'Japan': 126922333})\n",
    "countries = pd.DataFrame({'Area': area, 'Population': population})\n",
    "countries\n",
    "\n",
    "countries['Area']\n",
    "\n",
    "countries['Population Density'] = countries['Population'] / countries['Area']\n",
    "countries\n",
    "\n",
    "countries.values\n",
    "\n",
    "countries.T\n",
    "\n",
    "countries.iloc[:3, :2]\n",
    "\n",
    "countries.loc[:'Germany', :'Population']\n",
    "\n",
    "countries['France':'Japan']\n",
    "\n",
    "countries[1:3]\n",
    "\n",
    "\n",
    "\n"
   ]
  },
  {
   "cell_type": "code",
   "execution_count": 77,
   "metadata": {},
   "outputs": [
    {
     "data": {
      "text/html": [
       "<div>\n",
       "<style scoped>\n",
       "    .dataframe tbody tr th:only-of-type {\n",
       "        vertical-align: middle;\n",
       "    }\n",
       "\n",
       "    .dataframe tbody tr th {\n",
       "        vertical-align: top;\n",
       "    }\n",
       "\n",
       "    .dataframe thead th {\n",
       "        text-align: right;\n",
       "    }\n",
       "</style>\n",
       "<table border=\"1\" class=\"dataframe\">\n",
       "  <thead>\n",
       "    <tr style=\"text-align: right;\">\n",
       "      <th></th>\n",
       "      <th>A</th>\n",
       "      <th>B</th>\n",
       "      <th>C</th>\n",
       "      <th>D</th>\n",
       "    </tr>\n",
       "  </thead>\n",
       "  <tbody>\n",
       "    <tr>\n",
       "      <th>0</th>\n",
       "      <td>-1.836970e-16</td>\n",
       "      <td>7.071068e-01</td>\n",
       "      <td>6.123234e-17</td>\n",
       "      <td>-1.836970e-16</td>\n",
       "    </tr>\n",
       "    <tr>\n",
       "      <th>1</th>\n",
       "      <td>7.071068e-01</td>\n",
       "      <td>-1.000000e+00</td>\n",
       "      <td>-7.071068e-01</td>\n",
       "      <td>7.071068e-01</td>\n",
       "    </tr>\n",
       "    <tr>\n",
       "      <th>2</th>\n",
       "      <td>7.071068e-01</td>\n",
       "      <td>6.123234e-17</td>\n",
       "      <td>-7.071068e-01</td>\n",
       "      <td>-1.000000e+00</td>\n",
       "    </tr>\n",
       "  </tbody>\n",
       "</table>\n",
       "</div>"
      ],
      "text/plain": [
       "              A             B             C             D\n",
       "0 -1.836970e-16  7.071068e-01  6.123234e-17 -1.836970e-16\n",
       "1  7.071068e-01 -1.000000e+00 -7.071068e-01  7.071068e-01\n",
       "2  7.071068e-01  6.123234e-17 -7.071068e-01 -1.000000e+00"
      ]
     },
     "execution_count": 77,
     "metadata": {},
     "output_type": "execute_result"
    }
   ],
   "source": [
    "# Operating on data in pandas\n",
    "rng = np.random.RandomState(42)\n",
    "ser_example = pd.Series(rng.randint(0, 10, 4))\n",
    "ser_example\n",
    "\n",
    "df_example = pd.DataFrame(rng.randint(0, 10, (3, 4)),\n",
    "                  columns=['A', 'B', 'C', 'D'])\n",
    "df_example\n",
    "\n",
    "np.exp(ser_example)\n",
    "\n",
    "np.cos(df_example * np.pi / 4)"
   ]
  },
  {
   "cell_type": "code",
   "execution_count": 93,
   "metadata": {},
   "outputs": [
    {
     "data": {
      "text/html": [
       "<div>\n",
       "<style scoped>\n",
       "    .dataframe tbody tr th:only-of-type {\n",
       "        vertical-align: middle;\n",
       "    }\n",
       "\n",
       "    .dataframe tbody tr th {\n",
       "        vertical-align: top;\n",
       "    }\n",
       "\n",
       "    .dataframe thead th {\n",
       "        text-align: right;\n",
       "    }\n",
       "</style>\n",
       "<table border=\"1\" class=\"dataframe\">\n",
       "  <thead>\n",
       "    <tr style=\"text-align: right;\">\n",
       "      <th></th>\n",
       "      <th>W</th>\n",
       "      <th>X</th>\n",
       "      <th>Y</th>\n",
       "      <th>Z</th>\n",
       "    </tr>\n",
       "  </thead>\n",
       "  <tbody>\n",
       "    <tr>\n",
       "      <th>0</th>\n",
       "      <td>0.0</td>\n",
       "      <td>NaN</td>\n",
       "      <td>0.0</td>\n",
       "      <td>NaN</td>\n",
       "    </tr>\n",
       "    <tr>\n",
       "      <th>1</th>\n",
       "      <td>-1.0</td>\n",
       "      <td>NaN</td>\n",
       "      <td>2.0</td>\n",
       "      <td>NaN</td>\n",
       "    </tr>\n",
       "    <tr>\n",
       "      <th>2</th>\n",
       "      <td>1.0</td>\n",
       "      <td>NaN</td>\n",
       "      <td>-1.0</td>\n",
       "      <td>NaN</td>\n",
       "    </tr>\n",
       "  </tbody>\n",
       "</table>\n",
       "</div>"
      ],
      "text/plain": [
       "     W   X    Y   Z\n",
       "0  0.0 NaN  0.0 NaN\n",
       "1 -1.0 NaN  2.0 NaN\n",
       "2  1.0 NaN -1.0 NaN"
      ]
     },
     "execution_count": 93,
     "metadata": {},
     "output_type": "execute_result"
    }
   ],
   "source": [
    "# Index alignment with Series objects\n",
    "\n",
    "area = pd.Series({'Russia': 17075400, 'Canada':  9984670,\n",
    "                  'USA': 9826675, 'China': 9598094, \n",
    "                  'Brazil': 8514877}, name='area')\n",
    "population = pd.Series({'China': 1409517397, 'India': 1339180127,\n",
    "                        'USA': 324459463, 'Indonesia': 322179605, \n",
    "                        'Brazil': 207652865}, name='population')\n",
    "\n",
    "population / area\n",
    "\n",
    "series1 = pd.Series([2, 4, 6], index=[0, 1, 2])\n",
    "series2 = pd.Series([3, 5, 7], index=[1, 2, 3])\n",
    "series1 + series2\n",
    "\n",
    "series1.add(series2, fill_value=0)\n",
    "\n",
    "df1 = pd.DataFrame(rng.randint(0, 20, (2, 2)),\n",
    "                   columns=list('AB'))\n",
    "df1\n",
    "\n",
    "df2 = pd.DataFrame(rng.randint(0, 10, (3, 3)),\n",
    "                   columns=list('BAC'))\n",
    "df2\n",
    "\n",
    "df1 + df2\n",
    "\n",
    "fill = df1.stack().mean()\n",
    "df1.add(df2, fill_value=fill)\n",
    "\n",
    "df3 = pd.DataFrame(rng.randint(10, size=(3, 4)), columns=list('WXYZ'))\n",
    "df3\n",
    "\n",
    "df3 - df3.iloc[0]\n",
    "\n",
    "df3.subtract(df3['X'], axis=0)\n",
    "\n",
    "halfrow = df3.iloc[0, ::2]\n",
    "halfrow\n",
    "\n",
    "df3 - halfrow"
   ]
  }
 ],
 "metadata": {
  "kernelspec": {
   "display_name": "myenv",
   "language": "python",
   "name": "python3"
  },
  "language_info": {
   "codemirror_mode": {
    "name": "ipython",
    "version": 3
   },
   "file_extension": ".py",
   "mimetype": "text/x-python",
   "name": "python",
   "nbconvert_exporter": "python",
   "pygments_lexer": "ipython3",
   "version": "3.10.10"
  },
  "orig_nbformat": 4
 },
 "nbformat": 4,
 "nbformat_minor": 2
}
